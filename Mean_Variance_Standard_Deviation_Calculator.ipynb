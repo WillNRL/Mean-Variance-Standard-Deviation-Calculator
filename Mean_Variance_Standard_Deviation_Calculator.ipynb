{
  "cells": [
    {
      "cell_type": "markdown",
      "metadata": {
        "id": "view-in-github",
        "colab_type": "text"
      },
      "source": [
        "<a href=\"https://colab.research.google.com/github/WillNRL/Mean-Variance-Standard-Deviation-Calculator/blob/main/Mean_Variance_Standard_Deviation_Calculator.ipynb\" target=\"_parent\"><img src=\"https://colab.research.google.com/assets/colab-badge.svg\" alt=\"Open In Colab\"/></a>"
      ]
    },
    {
      "cell_type": "markdown",
      "source": [
        "v0.1"
      ],
      "metadata": {
        "id": "j28qZaKfPebz"
      }
    },
    {
      "cell_type": "code",
      "execution_count": null,
      "metadata": {
        "id": "qQ5S72eoaiuA"
      },
      "outputs": [],
      "source": [
        "# Objective : mean - variance - standard deviation - max - min - sum\n",
        "import numpy as np\n",
        "## Make a dataframe for exemple\n",
        "df = {\n",
        "  'mean': [],\n",
        "  'variance': [],\n",
        "  'standard deviation': [],\n",
        "  'max': [],\n",
        "  'min': [],\n",
        "  'sum': []\n",
        "}\n",
        "npfunc = ['mean','var','std','max','min','sum']\n",
        "objective = ['mean','variance','standard deviation','max','min','sum']\n",
        "def calculate(entry):\n",
        "  if len(entry) == 9:\n",
        "    ## Casting list-array in np.array\n",
        "    arrayy = np.array(entry).reshape((3,3))\n",
        "    ## Application of the requested logic\n",
        "    for i,j in enumerate(npfunc):\n",
        "      product = [eval(f'np.{j}(arrayy, axis=0).tolist()'), eval(f'np.{j}(arrayy, axis=1).tolist()'), eval(f'np.{j}(arrayy).tolist()')]\n",
        "      df[objective[i]] = product\n",
        "    return df\n",
        "  else:\n",
        "     raise ValueError(\"List must contain nine numbers.\")"
      ]
    },
    {
      "cell_type": "code",
      "source": [
        "calculate([2,6,2,8,4,0,1,])"
      ],
      "metadata": {
        "colab": {
          "base_uri": "https://localhost:8080/",
          "height": 254
        },
        "id": "IxsasvLavUyy",
        "outputId": "1b57d885-7831-42d5-9d8e-80b8e07f53db"
      },
      "execution_count": null,
      "outputs": [
        {
          "output_type": "error",
          "ename": "ValueError",
          "evalue": "ignored",
          "traceback": [
            "\u001b[0;31m---------------------------------------------------------------------------\u001b[0m",
            "\u001b[0;31mValueError\u001b[0m                                Traceback (most recent call last)",
            "\u001b[0;32m<ipython-input-68-39440515a798>\u001b[0m in \u001b[0;36m<cell line: 1>\u001b[0;34m()\u001b[0m\n\u001b[0;32m----> 1\u001b[0;31m \u001b[0mcalculate\u001b[0m\u001b[0;34m(\u001b[0m\u001b[0;34m[\u001b[0m\u001b[0;36m2\u001b[0m\u001b[0;34m,\u001b[0m\u001b[0;36m6\u001b[0m\u001b[0;34m,\u001b[0m\u001b[0;36m2\u001b[0m\u001b[0;34m,\u001b[0m\u001b[0;36m8\u001b[0m\u001b[0;34m,\u001b[0m\u001b[0;36m4\u001b[0m\u001b[0;34m,\u001b[0m\u001b[0;36m0\u001b[0m\u001b[0;34m,\u001b[0m\u001b[0;36m1\u001b[0m\u001b[0;34m,\u001b[0m\u001b[0;34m]\u001b[0m\u001b[0;34m)\u001b[0m\u001b[0;34m\u001b[0m\u001b[0;34m\u001b[0m\u001b[0m\n\u001b[0m",
            "\u001b[0;32m<ipython-input-67-d4c2610c3a87>\u001b[0m in \u001b[0;36mcalculate\u001b[0;34m(entry)\u001b[0m\n\u001b[1;32m     22\u001b[0m     \u001b[0;32mreturn\u001b[0m \u001b[0mdf\u001b[0m\u001b[0;34m\u001b[0m\u001b[0;34m\u001b[0m\u001b[0m\n\u001b[1;32m     23\u001b[0m   \u001b[0;32melse\u001b[0m\u001b[0;34m:\u001b[0m\u001b[0;34m\u001b[0m\u001b[0;34m\u001b[0m\u001b[0m\n\u001b[0;32m---> 24\u001b[0;31m      \u001b[0;32mraise\u001b[0m \u001b[0mValueError\u001b[0m\u001b[0;34m(\u001b[0m\u001b[0;34m\"List must contain nine numbers.\"\u001b[0m\u001b[0;34m)\u001b[0m\u001b[0;34m\u001b[0m\u001b[0;34m\u001b[0m\u001b[0m\n\u001b[0m",
            "\u001b[0;31mValueError\u001b[0m: List must contain nine numbers."
          ]
        }
      ]
    }
  ],
  "metadata": {
    "colab": {
      "provenance": [],
      "include_colab_link": true
    },
    "kernelspec": {
      "display_name": "Python 3",
      "name": "python3"
    },
    "language_info": {
      "name": "python"
    },
    "gpuClass": "standard"
  },
  "nbformat": 4,
  "nbformat_minor": 0
}