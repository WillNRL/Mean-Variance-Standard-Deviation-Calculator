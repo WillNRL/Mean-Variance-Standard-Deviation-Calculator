{
  "cells": [
    {
      "cell_type": "markdown",
      "metadata": {
        "id": "view-in-github",
        "colab_type": "text"
      },
      "source": [
        "<a href=\"https://colab.research.google.com/github/WillNRL/Mean-Variance-Standard-Deviation-Calculator/blob/main/Mean_Variance_Standard_Deviation_Calculator.ipynb\" target=\"_parent\"><img src=\"https://colab.research.google.com/assets/colab-badge.svg\" alt=\"Open In Colab\"/></a>"
      ]
    },
    {
      "cell_type": "markdown",
      "source": [
        "v0.1"
      ],
      "metadata": {
        "id": "j28qZaKfPebz"
      }
    },
    {
      "cell_type": "code",
      "execution_count": null,
      "metadata": {
        "id": "qQ5S72eoaiuA"
      },
      "outputs": [],
      "source": [
        "# Objective : mean - variance - standard deviation - max - min - sum\n",
        "import numpy as np\n",
        "## Make a dataframe for exemple\n",
        "df = {\n",
        "  'mean': [],\n",
        "  'variance': [],\n",
        "  'standard deviation': [],\n",
        "  'max': [],\n",
        "  'min': [],\n",
        "  'sum': []\n",
        "}\n",
        "npfunc = ['mean','var','std','max','min','sum']\n",
        "objective = ['mean','variance','standard deviation','max','min','sum']\n",
        "def calculate(entry):\n",
        "  if len(entry) == 9:\n",
        "    ## Casting list-array in np.array\n",
        "    arrayy = np.array(entry).reshape((3,3))\n",
        "    ## Application of the requested logic\n",
        "    for i,j in enumerate(npfunc):\n",
        "      product = [eval(f'np.{j}(arrayy, axis=0).tolist()'), eval(f'np.{j}(arrayy, axis=1).tolist()'), eval(f'np.{j}(arrayy).tolist()')]\n",
        "      df[objective[i]] = product\n",
        "    return df\n",
        "  else:\n",
        "     raise ValueError(\"List must contain nine numbers.\")"
      ]
    },
    {
      "cell_type": "code",
      "source": [
        "calculate([2,6,2,8,4,0,1,7,8])"
      ],
      "metadata": {
        "colab": {
          "base_uri": "https://localhost:8080/"
        },
        "id": "IxsasvLavUyy",
        "outputId": "a11fa1ac-22f7-45c4-d628-8493a2b9fcc6"
      },
      "execution_count": 70,
      "outputs": [
        {
          "output_type": "execute_result",
          "data": {
            "text/plain": [
              "{'mean': [[3.6666666666666665, 5.666666666666667, 3.3333333333333335],\n",
              "  [3.3333333333333335, 4.0, 5.333333333333333],\n",
              "  4.222222222222222],\n",
              " 'variance': [[9.555555555555557, 1.5555555555555554, 11.555555555555555],\n",
              "  [3.555555555555556, 10.666666666666666, 9.555555555555555],\n",
              "  8.617283950617285],\n",
              " 'standard deviation': [[3.091206165165235,\n",
              "   1.247219128924647,\n",
              "   3.39934634239519],\n",
              "  [1.8856180831641267, 3.265986323710904, 3.0912061651652345],\n",
              "  2.9355210696939795],\n",
              " 'max': [[8, 7, 8], [6, 8, 8], 8],\n",
              " 'min': [[1, 4, 0], [2, 0, 1], 0],\n",
              " 'sum': [[11, 17, 10], [10, 12, 16], 38]}"
            ]
          },
          "metadata": {},
          "execution_count": 70
        }
      ]
    }
  ],
  "metadata": {
    "colab": {
      "provenance": [],
      "include_colab_link": true
    },
    "kernelspec": {
      "display_name": "Python 3",
      "name": "python3"
    },
    "language_info": {
      "name": "python"
    },
    "gpuClass": "standard"
  },
  "nbformat": 4,
  "nbformat_minor": 0
}